{
  "nbformat": 4,
  "nbformat_minor": 0,
  "metadata": {
    "colab": {
      "provenance": []
    },
    "kernelspec": {
      "name": "python3",
      "display_name": "Python 3"
    },
    "language_info": {
      "name": "python"
    }
  },
  "cells": [
    {
      "cell_type": "markdown",
      "source": [
        "# I. OOP"
      ],
      "metadata": {
        "id": "5qV_sehzFCTp"
      }
    },
    {
      "cell_type": "markdown",
      "source": [
        "1. (6б). Створіть клас Building, додайте три атрибути, один з яких має значення за замовчуванням та два методи на свій розсуд."
      ],
      "metadata": {
        "id": "tx_U_hOALyfg"
      }
    },
    {
      "cell_type": "code",
      "source": [
        "class Building:\n",
        "    def __init__(self, address, floors_num, residents_num = 100):\n",
        "      self._address = address\n",
        "      self._floors_num = floors_num\n",
        "      self._residents_num = residents_num\n",
        "\n",
        "    def __str__(self):\n",
        "      return f\"{self._residents_num} жителів живе в цьому домі на {self._address} з {self._floors_num} поверхами\"\n",
        "\n",
        "    def add_residents(self, additional_residents):\n",
        "        self._residents_num += additional_residents\n",
        "        return f\"Кількість жителів у будинку на {self._address} тепер {self._residents_num}.\""
      ],
      "metadata": {
        "id": "-Vf895KaL88N"
      },
      "execution_count": null,
      "outputs": []
    },
    {
      "cell_type": "markdown",
      "source": [
        "2. (2б). Створіть два обʼєкти цього класу, де один з обʼєктів створюється із дефолтним значенням атрибуту. На одному обʼєкті отримайте значення його атрибуту, а на іншому викличте один з його методів."
      ],
      "metadata": {
        "id": "X_UlOMB0L93w"
      }
    },
    {
      "cell_type": "code",
      "source": [
        "building1 = Building(\"вулиця Шевченка 32\", 9)\n",
        "print(building1._residents_num)\n",
        "building2 = Building(\"вулиця Котляревського 42\", 15, 88)\n",
        "building2.add_residents(32)"
      ],
      "metadata": {
        "id": "7gBu0ESOMCpG",
        "colab": {
          "base_uri": "https://localhost:8080/",
          "height": 53
        },
        "outputId": "21575fc1-dddc-4ba8-f55e-7d66618d6204"
      },
      "execution_count": null,
      "outputs": [
        {
          "output_type": "stream",
          "name": "stdout",
          "text": [
            "100\n"
          ]
        },
        {
          "output_type": "execute_result",
          "data": {
            "text/plain": [
              "'Кількість жителів у будинку на вулиця Котляревського 42 тепер 120.'"
            ],
            "application/vnd.google.colaboratory.intrinsic+json": {
              "type": "string"
            }
          },
          "metadata": {},
          "execution_count": 76
        }
      ]
    },
    {
      "cell_type": "markdown",
      "source": [
        "3. (5б). Створіть клас, де атрибути мають різні рівні доступу. Спробуйте отримати їхні значення та опишіть результати."
      ],
      "metadata": {
        "id": "HoqSCZt1MHn5"
      }
    },
    {
      "cell_type": "code",
      "source": [
        "class Example:\n",
        "  def __init__(self, protected_attribute, private_attribute):\n",
        "    self._protected_attribute = protected_attribute\n",
        "    self.__private_attribute = private_attribute\n",
        "\n",
        "example1 = Example(\"Я захищений\", \"Я приватний\")\n",
        "print(example1._protected_attribute) # атрибут защений, але фактично лише за домовленністю, доступ до нього не обмежується\n",
        "print(example1.__private_attribute) # помилка: AttributeError"
      ],
      "metadata": {
        "id": "r9b3vJxBMSPV",
        "colab": {
          "base_uri": "https://localhost:8080/",
          "height": 193
        },
        "outputId": "c9718277-a246-4dd2-a2c5-d0e72ab33742"
      },
      "execution_count": null,
      "outputs": [
        {
          "output_type": "stream",
          "name": "stdout",
          "text": [
            "Я захищений\n"
          ]
        },
        {
          "output_type": "error",
          "ename": "AttributeError",
          "evalue": "'Example' object has no attribute '__private_attribute'",
          "traceback": [
            "\u001b[0;31m---------------------------------------------------------------------------\u001b[0m",
            "\u001b[0;31mAttributeError\u001b[0m                            Traceback (most recent call last)",
            "\u001b[0;32m<ipython-input-77-21882d18585a>\u001b[0m in \u001b[0;36m<cell line: 0>\u001b[0;34m()\u001b[0m\n\u001b[1;32m      6\u001b[0m \u001b[0mexample1\u001b[0m \u001b[0;34m=\u001b[0m \u001b[0mExample\u001b[0m\u001b[0;34m(\u001b[0m\u001b[0;34m\"Я захищений\"\u001b[0m\u001b[0;34m,\u001b[0m \u001b[0;34m\"Я приватний\"\u001b[0m\u001b[0;34m)\u001b[0m\u001b[0;34m\u001b[0m\u001b[0;34m\u001b[0m\u001b[0m\n\u001b[1;32m      7\u001b[0m \u001b[0mprint\u001b[0m\u001b[0;34m(\u001b[0m\u001b[0mexample1\u001b[0m\u001b[0;34m.\u001b[0m\u001b[0m_protected_attribute\u001b[0m\u001b[0;34m)\u001b[0m \u001b[0;31m# атрибут защений, але фактично лише за домовленністю, доступ до нього не обмежується\u001b[0m\u001b[0;34m\u001b[0m\u001b[0;34m\u001b[0m\u001b[0m\n\u001b[0;32m----> 8\u001b[0;31m \u001b[0mprint\u001b[0m\u001b[0;34m(\u001b[0m\u001b[0mexample1\u001b[0m\u001b[0;34m.\u001b[0m\u001b[0m__private_attribute\u001b[0m\u001b[0;34m)\u001b[0m \u001b[0;31m# помилка: AttributeError\u001b[0m\u001b[0;34m\u001b[0m\u001b[0;34m\u001b[0m\u001b[0m\n\u001b[0m",
            "\u001b[0;31mAttributeError\u001b[0m: 'Example' object has no attribute '__private_attribute'"
          ]
        }
      ]
    },
    {
      "cell_type": "markdown",
      "source": [
        "4. (7б). Як ви розумієте термін self? Для чого використовується метод __init __?\n",
        "\n"
      ],
      "metadata": {
        "id": "5op2m2vgMSkZ"
      }
    },
    {
      "cell_type": "markdown",
      "source": [
        "`self - указник на поточний об'єкт класу. Метод __init__ ініціалізує (задає) початкові значення атрибутів нового об'єкту відразу ж після його створення`"
      ],
      "metadata": {
        "id": "DyiPqNRvMasx"
      }
    },
    {
      "cell_type": "markdown",
      "source": [
        "5. (9б). Створіть клас 3D-фігура без атрибутів, з методом get_volume для отримання об'єму фігури, що повертає 0 та __add __, який приймає self та other в якості аргументів, а повертає суму об'ємів 3d-фігур self та other."
      ],
      "metadata": {
        "id": "-6X8EGfjMd2y"
      }
    },
    {
      "cell_type": "code",
      "source": [
        "class Shape_3D:\n",
        "  def get_volume(self):\n",
        "    return 0\n",
        "\n",
        "  def __add__(self, other):\n",
        "    return self.get_volume() + other.get_volume()\n"
      ],
      "metadata": {
        "id": "4rvO_wYUMaEr"
      },
      "execution_count": null,
      "outputs": []
    },
    {
      "cell_type": "markdown",
      "source": [
        "6. (11б). Створіть 2 дочірніх класи від 3d-фігура: Циліндр та Куб, які мають атрибути, необхідні для розрахунку об'єму. Визначте метод get_volume в кожному з них так, щоби вони розраховували об'єм у залежності від формули для кожного типу фігури. Створіть обʼєкт класу Циліндр та обʼєкт класу Куб. Виконайте операцію суми за допомогою оператора + між ними, аби знайти сумарний об'єм."
      ],
      "metadata": {
        "id": "SFcKnnv5Mo_z"
      }
    },
    {
      "cell_type": "code",
      "source": [
        "import math\n",
        "\n",
        "class Cylinder(Shape_3D):\n",
        "  def __init__(self, height, radius):\n",
        "    self._height = height\n",
        "    self._radius = radius\n",
        "\n",
        "  def get_volume(self):\n",
        "    return math.pi * self._radius**2 * self._height\n",
        "\n",
        "class Cube(Shape_3D):\n",
        "  def __init__(self, length):\n",
        "    self._length = length\n",
        "\n",
        "  def get_volume(self):\n",
        "    return self._length ** 3\n",
        "\n",
        "some_cylinder = Cylinder(2,5)\n",
        "some_cube = Cube(3)\n",
        "sum = some_cylinder + some_cube\n",
        "print(f\"Сумарний об'єм: {sum}\")"
      ],
      "metadata": {
        "id": "H3GVNr69Muf3",
        "colab": {
          "base_uri": "https://localhost:8080/"
        },
        "outputId": "133bff09-bded-42c4-c44a-0a5d8aeda511"
      },
      "execution_count": null,
      "outputs": [
        {
          "output_type": "stream",
          "name": "stdout",
          "text": [
            "Сумарний об'єм: 184.07963267948966\n"
          ]
        }
      ]
    },
    {
      "cell_type": "markdown",
      "source": [
        "7. (3б). Продемонструйте різницю між isinstance та issubclass."
      ],
      "metadata": {
        "id": "HCvR206YMvLK"
      }
    },
    {
      "cell_type": "code",
      "source": [
        "class Parent:\n",
        "  pass\n",
        "\n",
        "class Child(Parent):\n",
        "  pass\n",
        "\n",
        "some_parent = Parent()\n",
        "print(isinstance(some_parent, Parent)) # some_parent є екземпляром класу Parent\n",
        "print(issubclass(Child, Parent)) # Child є дочірнім класом Parent"
      ],
      "metadata": {
        "id": "L_V1bBvDM0GN",
        "colab": {
          "base_uri": "https://localhost:8080/"
        },
        "outputId": "607fa1f2-47ac-4877-fe5f-779bd00c7721"
      },
      "execution_count": null,
      "outputs": [
        {
          "output_type": "stream",
          "name": "stdout",
          "text": [
            "True\n",
            "True\n"
          ]
        }
      ]
    },
    {
      "cell_type": "markdown",
      "source": [
        "8. (13б). Створіть клас EWallet з приватними атрибутами balance та id. Реалізуйте методи поповнення та зняття коштів, забезпечивши належну інкапсуляцію. Підказка: використовуйте декоратори property та setter."
      ],
      "metadata": {
        "id": "jjsaBZ-iM0Qq"
      }
    },
    {
      "cell_type": "code",
      "source": [
        "class EWallet:\n",
        "    def __init__(self, wallet_id, balance=0):\n",
        "      self.__id = wallet_id\n",
        "      self.__balance = balance\n",
        "\n",
        "    @property\n",
        "    def id(self):\n",
        "      return self.__id\n",
        "\n",
        "    @property\n",
        "    def balance(self):\n",
        "      return self.__balance\n",
        "\n",
        "    @balance.setter\n",
        "    def balance(self, value):\n",
        "      if value >= 0:  # Перевірка, щоб баланс не був від'ємним\n",
        "        self.__balance = value\n",
        "      else:\n",
        "        print(\"Помилка: Баланс не може бути від'ємним.\")\n",
        "      return None\n",
        "\n",
        "    def deposit(self, amount):\n",
        "      if amount > 0:\n",
        "        self.balance += amount\n",
        "        print(f\"Рахунок {self.__id} поповнено на {amount}. Поточний баланс: {self.__balance}\")\n",
        "      else:\n",
        "        print(\"Сума поповнення повинна бути більше 0.\")\n",
        "\n",
        "    def withdraw(self, amount):\n",
        "      if amount > 0 and amount <= self.__balance: #Перевірка, щоб сума зняття була ненульова і не перевищувала поточний баланс\n",
        "        self.balance -= amount\n",
        "        print(f\"З рахунку {self.__id} знято {amount}. Поточний баланс: {self.__balance}\")\n",
        "      else:\n",
        "        print(\"Недостатньо коштів або сума зняття некоректна.\")\n",
        "\n",
        "my_wallet = EWallet(1, 2000)\n",
        "my_wallet.deposit(300)\n",
        "my_wallet.withdraw(2300)\n",
        "my_wallet.withdraw(500)"
      ],
      "metadata": {
        "id": "xCvZ7lh8M7YA",
        "colab": {
          "base_uri": "https://localhost:8080/"
        },
        "outputId": "8a1e9c02-b741-46a6-8455-be3f2c72f2e2"
      },
      "execution_count": null,
      "outputs": [
        {
          "output_type": "stream",
          "name": "stdout",
          "text": [
            "Рахунок 1 поповнено на 300. Поточний баланс: 2300\n",
            "З рахунку 1 знято 2300. Поточний баланс: 0\n",
            "Недостатньо коштів або сума зняття некоректна.\n"
          ]
        }
      ]
    },
    {
      "cell_type": "markdown",
      "source": [
        "9. (11б). Створіть клас ShoppingCart, який містить список об'єктів типу Item. Реалізуйте методи для додавання айтемів, їх видалення та відображення списку айтемів."
      ],
      "metadata": {
        "id": "tIzL2SJTM8ft"
      }
    },
    {
      "cell_type": "code",
      "source": [
        "class ShoppingCart:\n",
        "  def __init__(self, items_list = []):\n",
        "    self._items_list = items_list\n",
        "\n",
        "  def __str__(self):\n",
        "    items_str = \", \".join(str(item) for item in self._items_list)\n",
        "    return f\"В тачці наразі: {items_str}\"\n",
        "\n",
        "  def addToCart(self, new_items):\n",
        "    if not isinstance(new_items, list): #якщо передано один товар\n",
        "      new_items = [new_items]\n",
        "    self._items_list.extend(new_items)\n",
        "    print(f\"До тачки додано товари: {', '.join(str(item) for item in new_items)}.\")\n",
        "    print(f\"В тачці наразі: {self}\")\n",
        "\n",
        "  def deleteFromCart(self, deleted_items):\n",
        "    if not isinstance(deleted_items, list): #якщо передано один товар\n",
        "      deleted_items = [deleted_items]\n",
        "    for item in deleted_items:\n",
        "        if item in self._items_list:\n",
        "          self._items_list.remove(item)\n",
        "          print(f\"З тачки видалено товар: {item}.\")\n",
        "        else:\n",
        "          print(f\"Товар {deleted_items} відсутній у тачці.\")\n",
        "\n",
        "class Item:\n",
        "  def __init__(self, name, price):\n",
        "    self._name = name\n",
        "    self._price = price\n",
        "\n",
        "  def __str__(self):\n",
        "    return f\"{self._name} за ціною {self._price}\"\n",
        "\n",
        "bread = Item(\"Хліб\", 20)\n",
        "milk = Item(\"Молоко\", 60)\n",
        "chocolate_bar = Item(\"Шоколадка\", 52)\n",
        "cookies = Item(\"Печиво\", 45)\n",
        "carrot = Item(\"Морква\", 30)\n",
        "\n",
        "my_shopping_cart = ShoppingCart([bread, milk, carrot])\n",
        "print(my_shopping_cart)\n",
        "my_shopping_cart.addToCart([chocolate_bar, cookies])\n",
        "my_shopping_cart.deleteFromCart(carrot)"
      ],
      "metadata": {
        "id": "HWxfJKLtNAUZ",
        "colab": {
          "base_uri": "https://localhost:8080/"
        },
        "outputId": "8a694799-764c-434c-9241-6ba475035710"
      },
      "execution_count": null,
      "outputs": [
        {
          "output_type": "stream",
          "name": "stdout",
          "text": [
            "В тачці наразі: Хліб за ціною 20, Молоко за ціною 60, Морква за ціною 30\n",
            "До тачки додано товари: Шоколадка за ціною 52, Печиво за ціною 45.\n",
            "В тачці наразі: В тачці наразі: Хліб за ціною 20, Молоко за ціною 60, Морква за ціною 30, Шоколадка за ціною 52, Печиво за ціною 45\n",
            "З тачки видалено товар: Морква за ціною 30.\n"
          ]
        }
      ]
    },
    {
      "cell_type": "markdown",
      "source": [
        "10. (13б). Створіть клас Vehicle з атрибутами brand (manufacturer) та production_age. Створіть ще один клас Engine з такими атрибутами, як type (ex. petrol) та size (volume, litres). Створіть клас Car, який успадковує обидва класи Vehicle та Engine. Продемонструйте використання множинної спадковості, створивши обʼєкт класу Car та отримавши mro для цього класу."
      ],
      "metadata": {
        "id": "lmV8pAwwNIqu"
      }
    },
    {
      "cell_type": "code",
      "source": [
        "class Vehicle():\n",
        "  def __init__(self, brand, production_age):\n",
        "    self._brand = brand\n",
        "    self._production_age = production_age\n",
        "\n",
        "class Engine():\n",
        "  def __init__(self, car_type, size):\n",
        "    self._car_type = car_type\n",
        "    self._size = size\n",
        "\n",
        "class Car(Vehicle, Engine):\n",
        "  def __init__(self, vehicle, engine):\n",
        "    self._vehicle = vehicle\n",
        "    self._engine = engine\n",
        "\n",
        "some_vehicle = Vehicle(\"BMW\", 2018)\n",
        "some_engine = Engine(\"petrol\", 3)\n",
        "my_car = Car(some_vehicle, some_engine)\n",
        "Car.mro()\n"
      ],
      "metadata": {
        "id": "R49grKlWNPeN",
        "colab": {
          "base_uri": "https://localhost:8080/"
        },
        "outputId": "3c10ccd8-5f9b-4cd5-9cae-120645a070af"
      },
      "execution_count": null,
      "outputs": [
        {
          "output_type": "execute_result",
          "data": {
            "text/plain": [
              "[__main__.Car, __main__.Vehicle, __main__.Engine, object]"
            ]
          },
          "metadata": {},
          "execution_count": 83
        }
      ]
    },
    {
      "cell_type": "markdown",
      "source": [
        "# II. Iterator"
      ],
      "metadata": {
        "id": "dIJyUiNBFG8G"
      }
    },
    {
      "cell_type": "markdown",
      "source": [
        "11. (4б). Визначте рядок(str) з 4ма різними за значенням символами. Створіть ітератор на основі цього рядка. Викличте 5 разів функцію next на ітераторі, 4ри перших з них огорніть у ф-цію print()."
      ],
      "metadata": {
        "id": "13vsm0NyKIzL"
      }
    },
    {
      "cell_type": "code",
      "source": [
        "some_string = \"abcd\"\n",
        "some_string = iter(some_string)\n",
        "print(next(some_string))\n",
        "print(next(some_string))\n",
        "print(next(some_string))\n",
        "print(next(some_string))\n",
        "next(some_string) # ітератор вичерпано"
      ],
      "metadata": {
        "id": "81ntabAkKuz-",
        "colab": {
          "base_uri": "https://localhost:8080/",
          "height": 245
        },
        "outputId": "40250135-041e-49e7-e0c7-d3014b6a0163"
      },
      "execution_count": null,
      "outputs": [
        {
          "output_type": "stream",
          "name": "stdout",
          "text": [
            "a\n",
            "b\n",
            "c\n",
            "d\n"
          ]
        },
        {
          "output_type": "error",
          "ename": "StopIteration",
          "evalue": "",
          "traceback": [
            "\u001b[0;31m---------------------------------------------------------------------------\u001b[0m",
            "\u001b[0;31mStopIteration\u001b[0m                             Traceback (most recent call last)",
            "\u001b[0;32m<ipython-input-84-d3191450e31f>\u001b[0m in \u001b[0;36m<cell line: 0>\u001b[0;34m()\u001b[0m\n\u001b[1;32m      5\u001b[0m \u001b[0mprint\u001b[0m\u001b[0;34m(\u001b[0m\u001b[0mnext\u001b[0m\u001b[0;34m(\u001b[0m\u001b[0msome_string\u001b[0m\u001b[0;34m)\u001b[0m\u001b[0;34m)\u001b[0m\u001b[0;34m\u001b[0m\u001b[0;34m\u001b[0m\u001b[0m\n\u001b[1;32m      6\u001b[0m \u001b[0mprint\u001b[0m\u001b[0;34m(\u001b[0m\u001b[0mnext\u001b[0m\u001b[0;34m(\u001b[0m\u001b[0msome_string\u001b[0m\u001b[0;34m)\u001b[0m\u001b[0;34m)\u001b[0m\u001b[0;34m\u001b[0m\u001b[0;34m\u001b[0m\u001b[0m\n\u001b[0;32m----> 7\u001b[0;31m \u001b[0mnext\u001b[0m\u001b[0;34m(\u001b[0m\u001b[0msome_string\u001b[0m\u001b[0;34m)\u001b[0m \u001b[0;31m# ітератор вичерпано\u001b[0m\u001b[0;34m\u001b[0m\u001b[0;34m\u001b[0m\u001b[0m\n\u001b[0m",
            "\u001b[0;31mStopIteration\u001b[0m: "
          ]
        }
      ]
    },
    {
      "cell_type": "markdown",
      "source": [
        "А що якщо викликати цю ж функцію на рядку?"
      ],
      "metadata": {
        "id": "aekWHGXOLRsO"
      }
    },
    {
      "cell_type": "code",
      "source": [
        "next(\"abcd\") # спеціальна функція next працює лише для ітераторів, а рядок є ітерабельним об'єктом"
      ],
      "metadata": {
        "id": "mxATGsErLV1i",
        "colab": {
          "base_uri": "https://localhost:8080/",
          "height": 141
        },
        "outputId": "5ab89e90-fc7c-415d-c796-e817a4acad63"
      },
      "execution_count": null,
      "outputs": [
        {
          "output_type": "error",
          "ename": "TypeError",
          "evalue": "'str' object is not an iterator",
          "traceback": [
            "\u001b[0;31m---------------------------------------------------------------------------\u001b[0m",
            "\u001b[0;31mTypeError\u001b[0m                                 Traceback (most recent call last)",
            "\u001b[0;32m<ipython-input-85-af714a8540bc>\u001b[0m in \u001b[0;36m<cell line: 0>\u001b[0;34m()\u001b[0m\n\u001b[0;32m----> 1\u001b[0;31m \u001b[0mnext\u001b[0m\u001b[0;34m(\u001b[0m\u001b[0;34m\"abcd\"\u001b[0m\u001b[0;34m)\u001b[0m \u001b[0;31m# спеціальна функція next працює лише для ітераторів, а рядок є ітерабельним об'єктом\u001b[0m\u001b[0;34m\u001b[0m\u001b[0;34m\u001b[0m\u001b[0m\n\u001b[0m",
            "\u001b[0;31mTypeError\u001b[0m: 'str' object is not an iterator"
          ]
        }
      ]
    },
    {
      "cell_type": "markdown",
      "source": [
        " 12. (5б). Опишіть своїми словами в одному реченні, як ви розумієте різницю між ітерабельними обʼєктами та ітераторами (можна на прикладі)."
      ],
      "metadata": {
        "id": "XwtMEopwJ4pH"
      }
    },
    {
      "cell_type": "markdown",
      "source": [
        "`Ітератор - це об'єкт, який підтримує протокол ітератора - тобто функцію __iter__, яка повертає значення самого об'єкту по одному за раз, і __next__, яка запам'ятовує наступний елемент і повертає його значення. Ітерабельні об'єкти в свою чергу - це колекції даних, такі як сети, списки, кортежі і словники, по яких можна ітерувати.`"
      ],
      "metadata": {
        "id": "-sHrODc3KFn8"
      }
    },
    {
      "cell_type": "markdown",
      "source": [
        "13. (11б). Створіть клас, що має визначений Iterator Protocol та при кожному виклику next повертає назву дня тижня, поки вони не вичерпаються. Зверніть увагу, що порядок має значення."
      ],
      "metadata": {
        "id": "E9qJWmNbK8Gl"
      }
    },
    {
      "cell_type": "code",
      "source": [
        "class MyIterator:\n",
        "  def __init__(self):\n",
        "    self._sequence = [\"Понеділок\", \"Вівторок\", \"Середа\", \"Четвер\", \"П'ятниця\", \"Субота\", \"Неділя\"]\n",
        "    self._cur_index = 0\n",
        "\n",
        "  def __iter__(self):\n",
        "    return self\n",
        "\n",
        "  def __next__(self):\n",
        "    if self._cur_index < len(self._sequence):\n",
        "      cur_element = self._sequence[self._cur_index]\n",
        "      self._cur_index += 1\n",
        "      return cur_element\n",
        "    else:\n",
        "      raise StopIteration\n",
        "\n",
        "iterator = MyIterator()\n",
        "for day in iterator:\n",
        "  print(day)"
      ],
      "metadata": {
        "id": "cqx-g_RsLo6I",
        "colab": {
          "base_uri": "https://localhost:8080/"
        },
        "outputId": "d26ffcfa-41d9-48ef-c4b8-8dd7b08133be"
      },
      "execution_count": null,
      "outputs": [
        {
          "output_type": "stream",
          "name": "stdout",
          "text": [
            "Понеділок\n",
            "Вівторок\n",
            "Середа\n",
            "Четвер\n",
            "П'ятниця\n",
            "Субота\n",
            "Неділя\n"
          ]
        }
      ]
    },
    {
      "cell_type": "markdown",
      "source": [
        "# Вітаю! Ви велика(ий) молодець, що впоралась(вся). Похваліть себе та побалуйте чимось приємним. Я Вами пишаюся."
      ],
      "metadata": {
        "id": "Z3E3S_s1Fv7-"
      }
    }
  ]
}